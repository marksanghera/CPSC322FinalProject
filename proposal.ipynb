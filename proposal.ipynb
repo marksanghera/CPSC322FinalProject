{
 "cells": [
  {
   "cell_type": "markdown",
   "metadata": {},
   "source": [
    "# Final Project Proposal\n",
    "### Leo Jia and Mark Sanghera"
   ]
  },
  {
   "cell_type": "markdown",
   "metadata": {},
   "source": [
    "# Dataset Description\n",
    "\n",
    "## Source\n",
    "The dataset is sourced from the **Jet Propulsion Laboratory (JPL) Small-Body Database**, maintained by the California Institute of Technology under NASA. It is publicly available on the JPL Small-Body Database Search Engine.\n",
    "\n",
    "## Format\n",
    "The dataset is provided in a csv, containing various columns related to asteroid characteristics.\n",
    "\n",
    "## Contents\n",
    "The dataset includes detailed information about asteroids, such as their physical and orbital properties. Below is a brief description of the key attributes:\n",
    "\n",
    "### Key Attributes\n",
    "- **SPK-ID**: Object primary SPK-ID (unique identifier for the asteroid).\n",
    "- **Object ID**: Internal database ID for the object.\n",
    "- **Object Fullname**: Full name or designation of the asteroid.\n",
    "- **pdes**: Primary designation of the asteroid.\n",
    "- **name**: International Astronomical Union (IAU) name of the asteroid.\n",
    "- **NEO**: Near-Earth Object flag, indicating if the object is a Near-Earth Object (1) or not (0).\n",
    "- **PHA**: Potentially Hazardous Asteroid flag, indicating if the asteroid poses a threat (1) or not (0).\n",
    "- **H**: Absolute magnitude parameter.\n",
    "- **Diameter**: Estimated diameter of the asteroid in kilometers.\n",
    "- **Albedo**: Geometric albedo (reflectivity) of the asteroid.\n",
    "- **Diameter_sigma**: 1-sigma uncertainty in the diameter measurement (km).\n",
    "- **Orbit_id**: Orbit solution ID.\n",
    "- **Epoch**: Epoch of osculation in modified Julian day form.\n",
    "- **Equinox**: Reference frame equinox.\n",
    "- **e**: Orbital eccentricity.\n",
    "- **a**: Semi-major axis (in astronomical units).\n",
    "- **q**: Perihelion distance (in astronomical units).\n",
    "- **i**: Orbital inclination; angle with respect to the ecliptic plane.\n",
    "- **tp**: Time of perihelion passage.\n",
    "- **moid_ld**: Earth Minimum Orbit Intersection Distance (in astronomical units).\n",
    "\n",
    "## Class Information\n",
    "For this project, the **PHA (Potentially Hazardous Asteroid) flag** will serve as the class information. The task is to predict whether an asteroid is potentially hazardous (`PHA = 1`) or not (`PHA = 0`). This classification will be based on attributes such as:\n",
    "- Diameter\n",
    "- Orbital eccentricity (`e`)\n",
    "- Inclination (`i`)\n",
    "- Earth Minimum Orbit Intersection Distance (`moid_ld`)\n",
    "- Semi-major axis (`a`)\n"
   ]
  },
  {
   "cell_type": "markdown",
   "metadata": {},
   "source": [
    "# Implementation/Technical Merit\n",
    "- Anticipated challenges in pre-processing and/or classification\n",
    "  - The large number of attributes may lead to curse of dimensionality\n",
    "  - Cleaning the dataset such that there is no major loss in information\n",
    "  - Irrelavent features\n",
    "  - Removing bias\n",
    "  - Selecting the best classification algorithm\n",
    "- How we will explore feature selection techniques to pare down the attributes\n",
    "  - Correlation analysis\n",
    "  - Statistical tests\n",
    "  - Good Judgement"
   ]
  },
  {
   "cell_type": "markdown",
   "metadata": {},
   "source": [
    "# Potential Impact of the Results\n",
    "\n",
    "## Why Are These Results Useful?\n",
    "The results of this project are highly significant as they contribute to:\n",
    "- **Planetary Defense**: By accurately predicting whether an asteroid is potentially hazardous, this project aids in early detection and risk assessment, enabling timely measures to mitigate potential threats to Earth.\n",
    "- **Astronomical Research**: The insights gained can enhance our understanding of asteroid properties, their behavior, and their interaction with Earth's orbit, advancing scientific research in the field of astronomy.\n",
    "- **Public Awareness and Safety**: The classification of hazardous asteroids can inform global initiatives and public outreach campaigns, ensuring preparedness and safety.\n",
    "\n",
    "## Stakeholders\n",
    "The following stakeholders will benefit from and be interested in the outcomes of this project:\n",
    "\n",
    "### Primary Stakeholders\n",
    "- **Planetary Defense Agencies**: Organizations such as NASA's Planetary Defense Coordination Office (PDCO) and the European Space Agency (ESA) that are directly responsible for monitoring and mitigating asteroid threats.\n",
    "- **Astronomers and Researchers**: Scientists studying the physical and orbital properties of asteroids will find the classification insights valuable for ongoing research.\n",
    "- **Government and Policy Makers**: Decision-makers who fund and develop space programs focused on asteroid impact prevention and disaster response.\n",
    "\n",
    "### Secondary Stakeholders\n",
    "- **Space Exploration Companies**: Organizations like SpaceX and Blue Origin that may utilize asteroid data for mission planning and resource identification.\n",
    "- **Educators and Students**: The results can serve as a learning resource for academic programs in planetary science, data science, and astronomy.\n",
    "- **General Public**: Individuals who benefit from increased awareness of space hazards and reassurance regarding Earth's safety.\n",
    "\n"
   ]
  }
 ],
 "metadata": {
  "language_info": {
   "name": "python"
  }
 },
 "nbformat": 4,
 "nbformat_minor": 2
}
