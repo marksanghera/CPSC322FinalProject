{
 "cells": [
  {
   "cell_type": "markdown",
   "metadata": {},
   "source": [
    "# Final Project Proposal\n",
    "### Leo Jia and Mark Sanghera"
   ]
  },
  {
   "cell_type": "markdown",
   "metadata": {},
   "source": [
    "# Dataset Description\n",
    "- source, format, contents\n",
    "- description of attributes"
   ]
  },
  {
   "cell_type": "markdown",
   "metadata": {},
   "source": [
    "# Implmentation/Technical Merit\n",
    "- Anticipated challenges in pre-processing and/or classification\n",
    "- if number of attributes is large, how will explore"
   ]
  },
  {
   "cell_type": "markdown",
   "metadata": {},
   "source": [
    "# Potential impact of the results\n",
    "- why are these results useful\n",
    "- who are the stakeholders"
   ]
  }
 ],
 "metadata": {
  "language_info": {
   "name": "python"
  }
 },
 "nbformat": 4,
 "nbformat_minor": 2
}
