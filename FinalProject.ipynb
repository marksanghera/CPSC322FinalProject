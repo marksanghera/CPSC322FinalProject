{
 "cells": [
  {
   "cell_type": "markdown",
   "metadata": {},
   "source": [
    "# Final Project"
   ]
  },
  {
   "cell_type": "markdown",
   "metadata": {},
   "source": [
    "### Clean Dataset for unused attributes"
   ]
  },
  {
   "cell_type": "code",
   "execution_count": 1,
   "metadata": {},
   "outputs": [],
   "source": [
    "from mysklearn.mypytable import MyPyTable \n",
    "\n",
    "\n",
    "file_path = \"/home/FinalProject/neo.csv\"\n",
    "output_file = \"/home/FinalProject/neo_clean.csv\"\n",
    "neo_table = MyPyTable()\n",
    "neo_table.load_from_file(file_path)\n",
    "\n",
    "removed_attributes =[\"id\", \"name\", \"orbiting_body\", \"sentry_object\"]\n",
    "\n",
    "columns_to_keep = [col for col in neo_table.column_names if col not in removed_attributes]\n",
    "\n",
    "cleaned_data = [[row[neo_table.column_names.index(col)] for col in columns_to_keep] for row in neo_table.data]\n",
    "\n",
    "cleaned_table = MyPyTable(column_names=columns_to_keep, data=cleaned_data)\n",
    "cleaned_table.save_to_file(output_file)\n"
   ]
  }
 ],
 "metadata": {
  "kernelspec": {
   "display_name": "base",
   "language": "python",
   "name": "python3"
  },
  "language_info": {
   "codemirror_mode": {
    "name": "ipython",
    "version": 3
   },
   "file_extension": ".py",
   "mimetype": "text/x-python",
   "name": "python",
   "nbconvert_exporter": "python",
   "pygments_lexer": "ipython3",
   "version": "3.12.4"
  }
 },
 "nbformat": 4,
 "nbformat_minor": 2
}
